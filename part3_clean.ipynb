{
 "cells": [
  {
   "cell_type": "markdown",
   "metadata": {},
   "source": [
    "# Final Project Part 3"
   ]
  },
  {
   "cell_type": "markdown",
   "metadata": {},
   "source": [
    "## Dataset and Problem Statement"
   ]
  },
  {
   "cell_type": "markdown",
   "metadata": {},
   "source": [
    "*About this data set:*"
   ]
  },
  {
   "cell_type": "markdown",
   "metadata": {},
   "source": [
    "This data was compiled from surveys given to 126 Mercyhurst University students and is available on Kaggle.\n",
    "\n",
    "https://www.kaggle.com/borapajo/food-choices \n",
    "\n",
    "I found it interesting data to try to work with because I work for NC State University Dining. This was the only open data set I could find that related to my work. I thought it would be interesting to see if one could predict the eating habits of college students from their self-reported data. Most answers were allowed to be freely entered. The originators of the survey then read and coded the results by hand and included both the original answers and the coded answers in the dataset and provided a .doc file with a copy of the survey and the coding method.  It is not the best kind of data set to use since it is not passively collected; there can be a lot of bias resulting just in the way the study was administered. Additionally, the diet outcomes were coded into only four types after collecting the data, with over 80% of respondants falling into one of two categories. One thing we might be able to see is if any of the categories might be meaningful for future studies. If I were to launch a study similiar to this, I would attempt to get verfiably true answers vs. self-reported only answers(like actually weighing participants), use scales (e.g. from 1 to 5, disagree to agree) rather than open text for everything, and find some way to observe eating habits rather than just asking what people eat. For the purposes of this exericise, we'll move forward with the available data and see how accurately we can guess their regular diet type based off other aspects of their life.\n",
    "\n"
   ]
  },
  {
   "cell_type": "markdown",
   "metadata": {},
   "source": [
    " *Data and Model Imports*"
   ]
  },
  {
   "cell_type": "code",
   "execution_count": 1,
   "metadata": {},
   "outputs": [],
   "source": [
    "import pandas as pd\n",
    "import matplotlib.pyplot as plt\n",
    "import numpy as np\n",
    "import seaborn as sns\n",
    "from sklearn.ensemble import RandomForestClassifier\n",
    "from sklearn.model_selection import train_test_split, GridSearchCV, KFold\n",
    "from sklearn.linear_model import LogisticRegression\n",
    "from sklearn import metrics\n",
    "%matplotlib inline"
   ]
  },
  {
   "cell_type": "code",
   "execution_count": 2,
   "metadata": {},
   "outputs": [],
   "source": [
    "#loading in the dataset:\n",
    "food = pd.read_csv('food_coded.csv')"
   ]
  },
  {
   "cell_type": "markdown",
   "metadata": {},
   "source": [
    "## Data Cleaning"
   ]
  },
  {
   "cell_type": "markdown",
   "metadata": {},
   "source": [
    "Data Overview"
   ]
  },
  {
   "cell_type": "markdown",
   "metadata": {},
   "source": [
    "- Descriptive Statistics"
   ]
  },
  {
   "cell_type": "code",
   "execution_count": 3,
   "metadata": {},
   "outputs": [
    {
     "data": {
      "text/html": [
       "<div>\n",
       "<style scoped>\n",
       "    .dataframe tbody tr th:only-of-type {\n",
       "        vertical-align: middle;\n",
       "    }\n",
       "\n",
       "    .dataframe tbody tr th {\n",
       "        vertical-align: top;\n",
       "    }\n",
       "\n",
       "    .dataframe thead th {\n",
       "        text-align: right;\n",
       "    }\n",
       "</style>\n",
       "<table border=\"1\" class=\"dataframe\">\n",
       "  <thead>\n",
       "    <tr style=\"text-align: right;\">\n",
       "      <th></th>\n",
       "      <th>GPA</th>\n",
       "      <th>Gender</th>\n",
       "      <th>breakfast</th>\n",
       "      <th>calories_chicken</th>\n",
       "      <th>calories_day</th>\n",
       "      <th>calories_scone</th>\n",
       "      <th>coffee</th>\n",
       "      <th>comfort_food</th>\n",
       "      <th>comfort_food_reasons</th>\n",
       "      <th>comfort_food_reasons_coded</th>\n",
       "      <th>...</th>\n",
       "      <th>soup</th>\n",
       "      <th>sports</th>\n",
       "      <th>thai_food</th>\n",
       "      <th>tortilla_calories</th>\n",
       "      <th>turkey_calories</th>\n",
       "      <th>type_sports</th>\n",
       "      <th>veggies_day</th>\n",
       "      <th>vitamins</th>\n",
       "      <th>waffle_calories</th>\n",
       "      <th>weight</th>\n",
       "    </tr>\n",
       "  </thead>\n",
       "  <tbody>\n",
       "    <tr>\n",
       "      <th>count</th>\n",
       "      <td>125.000000</td>\n",
       "      <td>125.000000</td>\n",
       "      <td>125.000000</td>\n",
       "      <td>125.000000</td>\n",
       "      <td>106.000000</td>\n",
       "      <td>124.000000</td>\n",
       "      <td>125.00000</td>\n",
       "      <td>124</td>\n",
       "      <td>124</td>\n",
       "      <td>106.000000</td>\n",
       "      <td>...</td>\n",
       "      <td>125.000000</td>\n",
       "      <td>124.000000</td>\n",
       "      <td>125.000000</td>\n",
       "      <td>124.000000</td>\n",
       "      <td>125.000000</td>\n",
       "      <td>104</td>\n",
       "      <td>125.000000</td>\n",
       "      <td>125.000000</td>\n",
       "      <td>125.000000</td>\n",
       "      <td>123</td>\n",
       "    </tr>\n",
       "    <tr>\n",
       "      <th>unique</th>\n",
       "      <td>NaN</td>\n",
       "      <td>NaN</td>\n",
       "      <td>NaN</td>\n",
       "      <td>NaN</td>\n",
       "      <td>NaN</td>\n",
       "      <td>NaN</td>\n",
       "      <td>NaN</td>\n",
       "      <td>124</td>\n",
       "      <td>107</td>\n",
       "      <td>NaN</td>\n",
       "      <td>...</td>\n",
       "      <td>NaN</td>\n",
       "      <td>NaN</td>\n",
       "      <td>NaN</td>\n",
       "      <td>NaN</td>\n",
       "      <td>NaN</td>\n",
       "      <td>67</td>\n",
       "      <td>NaN</td>\n",
       "      <td>NaN</td>\n",
       "      <td>NaN</td>\n",
       "      <td>47</td>\n",
       "    </tr>\n",
       "    <tr>\n",
       "      <th>top</th>\n",
       "      <td>NaN</td>\n",
       "      <td>NaN</td>\n",
       "      <td>NaN</td>\n",
       "      <td>NaN</td>\n",
       "      <td>NaN</td>\n",
       "      <td>NaN</td>\n",
       "      <td>NaN</td>\n",
       "      <td>Cookies, popcorn, and chips</td>\n",
       "      <td>boredom</td>\n",
       "      <td>NaN</td>\n",
       "      <td>...</td>\n",
       "      <td>NaN</td>\n",
       "      <td>NaN</td>\n",
       "      <td>NaN</td>\n",
       "      <td>NaN</td>\n",
       "      <td>NaN</td>\n",
       "      <td>none</td>\n",
       "      <td>NaN</td>\n",
       "      <td>NaN</td>\n",
       "      <td>NaN</td>\n",
       "      <td>135</td>\n",
       "    </tr>\n",
       "    <tr>\n",
       "      <th>freq</th>\n",
       "      <td>NaN</td>\n",
       "      <td>NaN</td>\n",
       "      <td>NaN</td>\n",
       "      <td>NaN</td>\n",
       "      <td>NaN</td>\n",
       "      <td>NaN</td>\n",
       "      <td>NaN</td>\n",
       "      <td>1</td>\n",
       "      <td>7</td>\n",
       "      <td>NaN</td>\n",
       "      <td>...</td>\n",
       "      <td>NaN</td>\n",
       "      <td>NaN</td>\n",
       "      <td>NaN</td>\n",
       "      <td>NaN</td>\n",
       "      <td>NaN</td>\n",
       "      <td>8</td>\n",
       "      <td>NaN</td>\n",
       "      <td>NaN</td>\n",
       "      <td>NaN</td>\n",
       "      <td>8</td>\n",
       "    </tr>\n",
       "    <tr>\n",
       "      <th>mean</th>\n",
       "      <td>3.418536</td>\n",
       "      <td>1.392000</td>\n",
       "      <td>1.112000</td>\n",
       "      <td>577.320000</td>\n",
       "      <td>3.028302</td>\n",
       "      <td>505.241935</td>\n",
       "      <td>1.75200</td>\n",
       "      <td>NaN</td>\n",
       "      <td>NaN</td>\n",
       "      <td>2.698113</td>\n",
       "      <td>...</td>\n",
       "      <td>1.208000</td>\n",
       "      <td>1.379032</td>\n",
       "      <td>3.336000</td>\n",
       "      <td>947.580645</td>\n",
       "      <td>555.040000</td>\n",
       "      <td>NaN</td>\n",
       "      <td>4.008000</td>\n",
       "      <td>1.512000</td>\n",
       "      <td>1073.400000</td>\n",
       "      <td>NaN</td>\n",
       "    </tr>\n",
       "    <tr>\n",
       "      <th>std</th>\n",
       "      <td>0.383657</td>\n",
       "      <td>0.490161</td>\n",
       "      <td>0.316636</td>\n",
       "      <td>131.214156</td>\n",
       "      <td>0.639308</td>\n",
       "      <td>230.840506</td>\n",
       "      <td>0.43359</td>\n",
       "      <td>NaN</td>\n",
       "      <td>NaN</td>\n",
       "      <td>1.972042</td>\n",
       "      <td>...</td>\n",
       "      <td>0.426841</td>\n",
       "      <td>0.503528</td>\n",
       "      <td>1.436528</td>\n",
       "      <td>202.090179</td>\n",
       "      <td>152.370379</td>\n",
       "      <td>NaN</td>\n",
       "      <td>1.081337</td>\n",
       "      <td>0.501867</td>\n",
       "      <td>248.667092</td>\n",
       "      <td>NaN</td>\n",
       "    </tr>\n",
       "    <tr>\n",
       "      <th>min</th>\n",
       "      <td>2.200000</td>\n",
       "      <td>1.000000</td>\n",
       "      <td>1.000000</td>\n",
       "      <td>265.000000</td>\n",
       "      <td>2.000000</td>\n",
       "      <td>315.000000</td>\n",
       "      <td>1.00000</td>\n",
       "      <td>NaN</td>\n",
       "      <td>NaN</td>\n",
       "      <td>1.000000</td>\n",
       "      <td>...</td>\n",
       "      <td>0.000000</td>\n",
       "      <td>0.000000</td>\n",
       "      <td>1.000000</td>\n",
       "      <td>580.000000</td>\n",
       "      <td>345.000000</td>\n",
       "      <td>NaN</td>\n",
       "      <td>1.000000</td>\n",
       "      <td>1.000000</td>\n",
       "      <td>575.000000</td>\n",
       "      <td>NaN</td>\n",
       "    </tr>\n",
       "    <tr>\n",
       "      <th>25%</th>\n",
       "      <td>3.200000</td>\n",
       "      <td>1.000000</td>\n",
       "      <td>1.000000</td>\n",
       "      <td>430.000000</td>\n",
       "      <td>3.000000</td>\n",
       "      <td>420.000000</td>\n",
       "      <td>2.00000</td>\n",
       "      <td>NaN</td>\n",
       "      <td>NaN</td>\n",
       "      <td>2.000000</td>\n",
       "      <td>...</td>\n",
       "      <td>1.000000</td>\n",
       "      <td>1.000000</td>\n",
       "      <td>2.000000</td>\n",
       "      <td>725.000000</td>\n",
       "      <td>500.000000</td>\n",
       "      <td>NaN</td>\n",
       "      <td>3.000000</td>\n",
       "      <td>1.000000</td>\n",
       "      <td>900.000000</td>\n",
       "      <td>NaN</td>\n",
       "    </tr>\n",
       "    <tr>\n",
       "      <th>50%</th>\n",
       "      <td>3.500000</td>\n",
       "      <td>1.000000</td>\n",
       "      <td>1.000000</td>\n",
       "      <td>610.000000</td>\n",
       "      <td>3.000000</td>\n",
       "      <td>420.000000</td>\n",
       "      <td>2.00000</td>\n",
       "      <td>NaN</td>\n",
       "      <td>NaN</td>\n",
       "      <td>2.000000</td>\n",
       "      <td>...</td>\n",
       "      <td>1.000000</td>\n",
       "      <td>1.000000</td>\n",
       "      <td>3.000000</td>\n",
       "      <td>940.000000</td>\n",
       "      <td>500.000000</td>\n",
       "      <td>NaN</td>\n",
       "      <td>4.000000</td>\n",
       "      <td>2.000000</td>\n",
       "      <td>900.000000</td>\n",
       "      <td>NaN</td>\n",
       "    </tr>\n",
       "    <tr>\n",
       "      <th>75%</th>\n",
       "      <td>3.700000</td>\n",
       "      <td>2.000000</td>\n",
       "      <td>1.000000</td>\n",
       "      <td>720.000000</td>\n",
       "      <td>3.000000</td>\n",
       "      <td>420.000000</td>\n",
       "      <td>2.00000</td>\n",
       "      <td>NaN</td>\n",
       "      <td>NaN</td>\n",
       "      <td>3.000000</td>\n",
       "      <td>...</td>\n",
       "      <td>1.000000</td>\n",
       "      <td>2.000000</td>\n",
       "      <td>5.000000</td>\n",
       "      <td>1165.000000</td>\n",
       "      <td>690.000000</td>\n",
       "      <td>NaN</td>\n",
       "      <td>5.000000</td>\n",
       "      <td>2.000000</td>\n",
       "      <td>1315.000000</td>\n",
       "      <td>NaN</td>\n",
       "    </tr>\n",
       "    <tr>\n",
       "      <th>max</th>\n",
       "      <td>4.000000</td>\n",
       "      <td>2.000000</td>\n",
       "      <td>2.000000</td>\n",
       "      <td>720.000000</td>\n",
       "      <td>4.000000</td>\n",
       "      <td>980.000000</td>\n",
       "      <td>2.00000</td>\n",
       "      <td>NaN</td>\n",
       "      <td>NaN</td>\n",
       "      <td>9.000000</td>\n",
       "      <td>...</td>\n",
       "      <td>2.000000</td>\n",
       "      <td>2.000000</td>\n",
       "      <td>5.000000</td>\n",
       "      <td>1165.000000</td>\n",
       "      <td>850.000000</td>\n",
       "      <td>NaN</td>\n",
       "      <td>5.000000</td>\n",
       "      <td>2.000000</td>\n",
       "      <td>1315.000000</td>\n",
       "      <td>NaN</td>\n",
       "    </tr>\n",
       "  </tbody>\n",
       "</table>\n",
       "<p>11 rows × 61 columns</p>\n",
       "</div>"
      ],
      "text/plain": [
       "               GPA      Gender   breakfast  calories_chicken  calories_day  \\\n",
       "count   125.000000  125.000000  125.000000        125.000000    106.000000   \n",
       "unique         NaN         NaN         NaN               NaN           NaN   \n",
       "top            NaN         NaN         NaN               NaN           NaN   \n",
       "freq           NaN         NaN         NaN               NaN           NaN   \n",
       "mean      3.418536    1.392000    1.112000        577.320000      3.028302   \n",
       "std       0.383657    0.490161    0.316636        131.214156      0.639308   \n",
       "min       2.200000    1.000000    1.000000        265.000000      2.000000   \n",
       "25%       3.200000    1.000000    1.000000        430.000000      3.000000   \n",
       "50%       3.500000    1.000000    1.000000        610.000000      3.000000   \n",
       "75%       3.700000    2.000000    1.000000        720.000000      3.000000   \n",
       "max       4.000000    2.000000    2.000000        720.000000      4.000000   \n",
       "\n",
       "        calories_scone     coffee                 comfort_food  \\\n",
       "count       124.000000  125.00000                          124   \n",
       "unique             NaN        NaN                          124   \n",
       "top                NaN        NaN  Cookies, popcorn, and chips   \n",
       "freq               NaN        NaN                            1   \n",
       "mean        505.241935    1.75200                          NaN   \n",
       "std         230.840506    0.43359                          NaN   \n",
       "min         315.000000    1.00000                          NaN   \n",
       "25%         420.000000    2.00000                          NaN   \n",
       "50%         420.000000    2.00000                          NaN   \n",
       "75%         420.000000    2.00000                          NaN   \n",
       "max         980.000000    2.00000                          NaN   \n",
       "\n",
       "       comfort_food_reasons  comfort_food_reasons_coded  ...        soup  \\\n",
       "count                   124                  106.000000  ...  125.000000   \n",
       "unique                  107                         NaN  ...         NaN   \n",
       "top                 boredom                         NaN  ...         NaN   \n",
       "freq                      7                         NaN  ...         NaN   \n",
       "mean                    NaN                    2.698113  ...    1.208000   \n",
       "std                     NaN                    1.972042  ...    0.426841   \n",
       "min                     NaN                    1.000000  ...    0.000000   \n",
       "25%                     NaN                    2.000000  ...    1.000000   \n",
       "50%                     NaN                    2.000000  ...    1.000000   \n",
       "75%                     NaN                    3.000000  ...    1.000000   \n",
       "max                     NaN                    9.000000  ...    2.000000   \n",
       "\n",
       "            sports   thai_food tortilla_calories  turkey_calories  \\\n",
       "count   124.000000  125.000000        124.000000       125.000000   \n",
       "unique         NaN         NaN               NaN              NaN   \n",
       "top            NaN         NaN               NaN              NaN   \n",
       "freq           NaN         NaN               NaN              NaN   \n",
       "mean      1.379032    3.336000        947.580645       555.040000   \n",
       "std       0.503528    1.436528        202.090179       152.370379   \n",
       "min       0.000000    1.000000        580.000000       345.000000   \n",
       "25%       1.000000    2.000000        725.000000       500.000000   \n",
       "50%       1.000000    3.000000        940.000000       500.000000   \n",
       "75%       2.000000    5.000000       1165.000000       690.000000   \n",
       "max       2.000000    5.000000       1165.000000       850.000000   \n",
       "\n",
       "        type_sports veggies_day    vitamins  waffle_calories  weight  \n",
       "count           104  125.000000  125.000000       125.000000     123  \n",
       "unique           67         NaN         NaN              NaN      47  \n",
       "top            none         NaN         NaN              NaN     135  \n",
       "freq              8         NaN         NaN              NaN       8  \n",
       "mean            NaN    4.008000    1.512000      1073.400000     NaN  \n",
       "std             NaN    1.081337    0.501867       248.667092     NaN  \n",
       "min             NaN    1.000000    1.000000       575.000000     NaN  \n",
       "25%             NaN    3.000000    1.000000       900.000000     NaN  \n",
       "50%             NaN    4.000000    2.000000       900.000000     NaN  \n",
       "75%             NaN    5.000000    2.000000      1315.000000     NaN  \n",
       "max             NaN    5.000000    2.000000      1315.000000     NaN  \n",
       "\n",
       "[11 rows x 61 columns]"
      ]
     },
     "execution_count": 3,
     "metadata": {},
     "output_type": "execute_result"
    }
   ],
   "source": [
    "#Since no cleanig has taken place, we use include ='all' to get information for non numeric columns.\n",
    "food.describe(include='all')"
   ]
  },
  {
   "cell_type": "markdown",
   "metadata": {},
   "source": [
    "- Number of Rows and Columns"
   ]
  },
  {
   "cell_type": "code",
   "execution_count": 4,
   "metadata": {},
   "outputs": [
    {
     "data": {
      "text/plain": [
       "(125, 61)"
      ]
     },
     "execution_count": 4,
     "metadata": {},
     "output_type": "execute_result"
    }
   ],
   "source": [
    "#I must have deleted a row from the original dataframe in the .csv file itself\n",
    "food.shape"
   ]
  },
  {
   "cell_type": "markdown",
   "metadata": {},
   "source": [
    "- Column Datatypes"
   ]
  },
  {
   "cell_type": "code",
   "execution_count": 5,
   "metadata": {},
   "outputs": [
    {
     "data": {
      "text/plain": [
       "Index(['GPA', 'Gender', 'breakfast', 'calories_chicken', 'calories_day',\n",
       "       'calories_scone', 'coffee', 'comfort_food', 'comfort_food_reasons',\n",
       "       'comfort_food_reasons_coded', 'cook', 'comfort_food_reasons_coded.1',\n",
       "       'cuisine', 'diet_current', 'diet_current_coded', 'drink',\n",
       "       'eating_changes', 'eating_changes_coded', 'eating_changes_coded1',\n",
       "       'eating_out', 'employment', 'ethnic_food', 'exercise',\n",
       "       'father_education', 'father_profession', 'fav_cuisine',\n",
       "       'fav_cuisine_coded', 'fav_food', 'food_childhood', 'fries', 'fruit_day',\n",
       "       'grade_level', 'greek_food', 'healthy_feeling', 'healthy_meal',\n",
       "       'ideal_diet', 'ideal_diet_coded', 'income', 'indian_food',\n",
       "       'italian_food', 'life_rewarding', 'marital_status',\n",
       "       'meals_dinner_friend', 'mother_education', 'mother_profession',\n",
       "       'nutritional_check', 'on_off_campus', 'parents_cook', 'pay_meal_out',\n",
       "       'persian_food', 'self_perception_weight', 'soup', 'sports', 'thai_food',\n",
       "       'tortilla_calories', 'turkey_calories', 'type_sports', 'veggies_day',\n",
       "       'vitamins', 'waffle_calories', 'weight'],\n",
       "      dtype='object')"
      ]
     },
     "execution_count": 5,
     "metadata": {},
     "output_type": "execute_result"
    }
   ],
   "source": [
    "food.columns"
   ]
  },
  {
   "cell_type": "code",
   "execution_count": 6,
   "metadata": {},
   "outputs": [
    {
     "data": {
      "text/plain": [
       "GPA                             float64\n",
       "Gender                            int64\n",
       "breakfast                         int64\n",
       "calories_chicken                  int64\n",
       "calories_day                    float64\n",
       "calories_scone                  float64\n",
       "coffee                            int64\n",
       "comfort_food                     object\n",
       "comfort_food_reasons             object\n",
       "comfort_food_reasons_coded      float64\n",
       "cook                            float64\n",
       "comfort_food_reasons_coded.1      int64\n",
       "cuisine                         float64\n",
       "diet_current                     object\n",
       "diet_current_coded                int64\n",
       "drink                           float64\n",
       "eating_changes                   object\n",
       "eating_changes_coded              int64\n",
       "eating_changes_coded1             int64\n",
       "eating_out                        int64\n",
       "employment                      float64\n",
       "ethnic_food                       int64\n",
       "exercise                          int64\n",
       "father_education                float64\n",
       "father_profession                object\n",
       "fav_cuisine                      object\n",
       "fav_cuisine_coded                 int64\n",
       "fav_food                        float64\n",
       "food_childhood                   object\n",
       "fries                             int64\n",
       "                                 ...   \n",
       "grade_level                       int64\n",
       "greek_food                        int64\n",
       "healthy_feeling                   int64\n",
       "healthy_meal                     object\n",
       "ideal_diet                       object\n",
       "ideal_diet_coded                  int64\n",
       "income                          float64\n",
       "indian_food                       int64\n",
       "italian_food                      int64\n",
       "life_rewarding                  float64\n",
       "marital_status                  float64\n",
       "meals_dinner_friend              object\n",
       "mother_education                float64\n",
       "mother_profession                object\n",
       "nutritional_check                 int64\n",
       "on_off_campus                   float64\n",
       "parents_cook                      int64\n",
       "pay_meal_out                      int64\n",
       "persian_food                    float64\n",
       "self_perception_weight          float64\n",
       "soup                              int64\n",
       "sports                          float64\n",
       "thai_food                         int64\n",
       "tortilla_calories               float64\n",
       "turkey_calories                   int64\n",
       "type_sports                      object\n",
       "veggies_day                       int64\n",
       "vitamins                          int64\n",
       "waffle_calories                   int64\n",
       "weight                           object\n",
       "Length: 61, dtype: object"
      ]
     },
     "execution_count": 6,
     "metadata": {},
     "output_type": "execute_result"
    }
   ],
   "source": [
    "food.dtypes"
   ]
  },
  {
   "cell_type": "code",
   "execution_count": 7,
   "metadata": {},
   "outputs": [
    {
     "data": {
      "text/plain": [
       "0                              GPA\n",
       "1                           Gender\n",
       "2                        breakfast\n",
       "3                 calories_chicken\n",
       "4                     calories_day\n",
       "5                   calories_scone\n",
       "6                           coffee\n",
       "7                     comfort_food\n",
       "8             comfort_food_reasons\n",
       "9       comfort_food_reasons_coded\n",
       "10                            cook\n",
       "11    comfort_food_reasons_coded.1\n",
       "12                         cuisine\n",
       "13                    diet_current\n",
       "14              diet_current_coded\n",
       "15                           drink\n",
       "16                  eating_changes\n",
       "17            eating_changes_coded\n",
       "18           eating_changes_coded1\n",
       "19                      eating_out\n",
       "20                      employment\n",
       "21                     ethnic_food\n",
       "22                        exercise\n",
       "23                father_education\n",
       "24               father_profession\n",
       "25                     fav_cuisine\n",
       "26               fav_cuisine_coded\n",
       "27                        fav_food\n",
       "28                  food_childhood\n",
       "29                           fries\n",
       "                  ...             \n",
       "31                     grade_level\n",
       "32                      greek_food\n",
       "33                 healthy_feeling\n",
       "34                    healthy_meal\n",
       "35                      ideal_diet\n",
       "36                ideal_diet_coded\n",
       "37                          income\n",
       "38                     indian_food\n",
       "39                    italian_food\n",
       "40                  life_rewarding\n",
       "41                  marital_status\n",
       "42             meals_dinner_friend\n",
       "43                mother_education\n",
       "44               mother_profession\n",
       "45               nutritional_check\n",
       "46                   on_off_campus\n",
       "47                    parents_cook\n",
       "48                    pay_meal_out\n",
       "49                    persian_food\n",
       "50          self_perception_weight\n",
       "51                            soup\n",
       "52                          sports\n",
       "53                       thai_food\n",
       "54               tortilla_calories\n",
       "55                 turkey_calories\n",
       "56                     type_sports\n",
       "57                     veggies_day\n",
       "58                        vitamins\n",
       "59                 waffle_calories\n",
       "60                          weight\n",
       "Length: 61, dtype: object"
      ]
     },
     "execution_count": 7,
     "metadata": {},
     "output_type": "execute_result"
    }
   ],
   "source": [
    "#I like to use the pd.Series, so that it lists all the columns each on their own line, giving you the column index.\n",
    "#using just food.columns is better, though, when you want to copy and paste columns or see them all at once\n",
    "#The output for pd.Series will hide the center columns\n",
    "pd.Series(food.columns)"
   ]
  },
  {
   "cell_type": "markdown",
   "metadata": {},
   "source": [
    "Standardizing values in numeric columns"
   ]
  },
  {
   "cell_type": "markdown",
   "metadata": {},
   "source": [
    "- The column 'weight' is listed as object, but should be float or int. "
   ]
  },
  {
   "cell_type": "code",
   "execution_count": 8,
   "metadata": {},
   "outputs": [
    {
     "data": {
      "text/plain": [
       "135                         8\n",
       "140                         8\n",
       "150                         7\n",
       "170                         7\n",
       "180                         6\n",
       "175                         6\n",
       "155                         6\n",
       "185                         6\n",
       "125                         5\n",
       "190                         5\n",
       "165                         5\n",
       "145                         4\n",
       "130                         4\n",
       "200                         4\n",
       "120                         3\n",
       "160                         3\n",
       "129                         2\n",
       "113                         2\n",
       "210                         2\n",
       "167                         2\n",
       "128                         2\n",
       "138                         1\n",
       "230                         1\n",
       "118                         1\n",
       "195                         1\n",
       "116                         1\n",
       "127                         1\n",
       "105                         1\n",
       "156                         1\n",
       "264                         1\n",
       "187                         1\n",
       "260                         1\n",
       "112                         1\n",
       "184                         1\n",
       "115                         1\n",
       "168                         1\n",
       "110                         1\n",
       "137                         1\n",
       "I'm not answering this.     1\n",
       "100                         1\n",
       "144 lbs                     1\n",
       "123                         1\n",
       "265                         1\n",
       "205                         1\n",
       "Not sure, 240               1\n",
       "169                         1\n",
       "192                         1\n",
       "Name: weight, dtype: int64"
      ]
     },
     "execution_count": 8,
     "metadata": {},
     "output_type": "execute_result"
    }
   ],
   "source": [
    "#value_counts will show us all the data for the column and how much of each\n",
    "#this way we can easily view the non-numeric values\n",
    "food.weight.value_counts()"
   ]
  },
  {
   "cell_type": "code",
   "execution_count": 9,
   "metadata": {},
   "outputs": [],
   "source": [
    "food = food.replace({\"I'm not answering this. \": np.nan, '144 lbs': 144, 'Not sure, 240': 240})"
   ]
  },
  {
   "cell_type": "code",
   "execution_count": 10,
   "metadata": {},
   "outputs": [],
   "source": [
    "#I may have a lot of NaN values other places and I'm not ready to drop them without inspection yet.\n",
    "#I only need to be able to convert weight to a numeric column for now, \n",
    "#so I'll only drop rows that have a NaN value in 'weight'\n",
    "food = food.dropna(subset=['weight'])"
   ]
  },
  {
   "cell_type": "code",
   "execution_count": 11,
   "metadata": {},
   "outputs": [],
   "source": [
    "food = food.astype({'weight': 'int64'})"
   ]
  },
  {
   "cell_type": "markdown",
   "metadata": {},
   "source": [
    "- The column 'GPA' has a varying number decimal places and the differences past the first decimal place might add to much meaningless complexity."
   ]
  },
  {
   "cell_type": "code",
   "execution_count": 12,
   "metadata": {},
   "outputs": [],
   "source": [
    "food.GPA = food.GPA.round(decimals=1)"
   ]
  },
  {
   "cell_type": "markdown",
   "metadata": {},
   "source": [
    "Handling Non-numeric Columns"
   ]
  },
  {
   "cell_type": "code",
   "execution_count": 13,
   "metadata": {},
   "outputs": [],
   "source": [
    "#The non-numeric columns from this dataset have already been coded in numbers by categorizing the answers.\n",
    "#The coded columns were decided and added by the original owners of the dataset.\n",
    "#I will simply select all data types that are numeric and use that as my dataframe moving forward.\n",
    "#I'm doing this before I drop the NaN values so that I don't drop rows unneccessarily.\n",
    "food = food.select_dtypes('number')"
   ]
  },
  {
   "cell_type": "markdown",
   "metadata": {},
   "source": [
    "Handling Missing Values"
   ]
  },
  {
   "cell_type": "code",
   "execution_count": 14,
   "metadata": {},
   "outputs": [
    {
     "data": {
      "text/plain": [
       "GPA                              0\n",
       "Gender                           0\n",
       "breakfast                        0\n",
       "calories_chicken                 0\n",
       "calories_day                    19\n",
       "calories_scone                   1\n",
       "coffee                           0\n",
       "comfort_food_reasons_coded      19\n",
       "cook                             3\n",
       "comfort_food_reasons_coded.1     0\n",
       "cuisine                         16\n",
       "diet_current_coded               0\n",
       "drink                            2\n",
       "eating_changes_coded             0\n",
       "eating_changes_coded1            0\n",
       "eating_out                       0\n",
       "employment                       9\n",
       "ethnic_food                      0\n",
       "exercise                         0\n",
       "father_education                 1\n",
       "fav_cuisine_coded                0\n",
       "fav_food                         1\n",
       "fries                            0\n",
       "fruit_day                        0\n",
       "grade_level                      0\n",
       "greek_food                       0\n",
       "healthy_feeling                  0\n",
       "ideal_diet_coded                 0\n",
       "income                           1\n",
       "indian_food                      0\n",
       "italian_food                     0\n",
       "life_rewarding                   1\n",
       "marital_status                   1\n",
       "mother_education                 3\n",
       "nutritional_check                0\n",
       "on_off_campus                    1\n",
       "parents_cook                     0\n",
       "pay_meal_out                     0\n",
       "persian_food                     1\n",
       "self_perception_weight           1\n",
       "soup                             0\n",
       "sports                           1\n",
       "thai_food                        0\n",
       "tortilla_calories                1\n",
       "turkey_calories                  0\n",
       "veggies_day                      0\n",
       "vitamins                         0\n",
       "waffle_calories                  0\n",
       "weight                           0\n",
       "dtype: int64"
      ]
     },
     "execution_count": 14,
     "metadata": {},
     "output_type": "execute_result"
    }
   ],
   "source": [
    "#First I will get a count of all NaN values in each column.\n",
    "food.isnull().sum()"
   ]
  },
  {
   "cell_type": "code",
   "execution_count": 15,
   "metadata": {},
   "outputs": [],
   "source": [
    "#In order to preserve as many rows of data as possible, I will drop columns that have a high number of NaN values.\n",
    "\n",
    "nan_count = food.isnull().apply(sum, axis=0) # count the number of NaN in each column\n",
    "\n",
    "for col in food:\n",
    "    if nan_count[col] >=4:\n",
    "        del food[col]"
   ]
  },
  {
   "cell_type": "code",
   "execution_count": 16,
   "metadata": {},
   "outputs": [],
   "source": [
    "food = food.dropna()"
   ]
  },
  {
   "cell_type": "code",
   "execution_count": 17,
   "metadata": {},
   "outputs": [
    {
     "data": {
      "text/plain": [
       "(106, 45)"
      ]
     },
     "execution_count": 17,
     "metadata": {},
     "output_type": "execute_result"
    }
   ],
   "source": [
    "#Overall I have lost 19 rows of data from the original 125.\n",
    "food.shape"
   ]
  },
  {
   "cell_type": "markdown",
   "metadata": {},
   "source": [
    "## Exploratory Analysis"
   ]
  },
  {
   "cell_type": "markdown",
   "metadata": {},
   "source": [
    "- Descriptive Statistics for Clean Data Set"
   ]
  },
  {
   "cell_type": "code",
   "execution_count": 18,
   "metadata": {},
   "outputs": [
    {
     "data": {
      "text/html": [
       "<div>\n",
       "<style scoped>\n",
       "    .dataframe tbody tr th:only-of-type {\n",
       "        vertical-align: middle;\n",
       "    }\n",
       "\n",
       "    .dataframe tbody tr th {\n",
       "        vertical-align: top;\n",
       "    }\n",
       "\n",
       "    .dataframe thead th {\n",
       "        text-align: right;\n",
       "    }\n",
       "</style>\n",
       "<table border=\"1\" class=\"dataframe\">\n",
       "  <thead>\n",
       "    <tr style=\"text-align: right;\">\n",
       "      <th></th>\n",
       "      <th>GPA</th>\n",
       "      <th>Gender</th>\n",
       "      <th>breakfast</th>\n",
       "      <th>calories_chicken</th>\n",
       "      <th>calories_scone</th>\n",
       "      <th>coffee</th>\n",
       "      <th>cook</th>\n",
       "      <th>comfort_food_reasons_coded.1</th>\n",
       "      <th>diet_current_coded</th>\n",
       "      <th>drink</th>\n",
       "      <th>...</th>\n",
       "      <th>self_perception_weight</th>\n",
       "      <th>soup</th>\n",
       "      <th>sports</th>\n",
       "      <th>thai_food</th>\n",
       "      <th>tortilla_calories</th>\n",
       "      <th>turkey_calories</th>\n",
       "      <th>veggies_day</th>\n",
       "      <th>vitamins</th>\n",
       "      <th>waffle_calories</th>\n",
       "      <th>weight</th>\n",
       "    </tr>\n",
       "  </thead>\n",
       "  <tbody>\n",
       "    <tr>\n",
       "      <th>count</th>\n",
       "      <td>106.000000</td>\n",
       "      <td>106.000000</td>\n",
       "      <td>106.000000</td>\n",
       "      <td>106.000000</td>\n",
       "      <td>106.000000</td>\n",
       "      <td>106.000000</td>\n",
       "      <td>106.000000</td>\n",
       "      <td>106.000000</td>\n",
       "      <td>106.000000</td>\n",
       "      <td>106.000000</td>\n",
       "      <td>...</td>\n",
       "      <td>106.000000</td>\n",
       "      <td>106.000000</td>\n",
       "      <td>106.000000</td>\n",
       "      <td>106.000000</td>\n",
       "      <td>106.000000</td>\n",
       "      <td>106.000000</td>\n",
       "      <td>106.000000</td>\n",
       "      <td>106.000000</td>\n",
       "      <td>106.000000</td>\n",
       "      <td>106.000000</td>\n",
       "    </tr>\n",
       "    <tr>\n",
       "      <th>mean</th>\n",
       "      <td>3.424528</td>\n",
       "      <td>1.386792</td>\n",
       "      <td>1.094340</td>\n",
       "      <td>585.566038</td>\n",
       "      <td>501.226415</td>\n",
       "      <td>1.754717</td>\n",
       "      <td>2.764151</td>\n",
       "      <td>2.556604</td>\n",
       "      <td>1.707547</td>\n",
       "      <td>1.575472</td>\n",
       "      <td>...</td>\n",
       "      <td>3.150943</td>\n",
       "      <td>1.216981</td>\n",
       "      <td>1.349057</td>\n",
       "      <td>3.264151</td>\n",
       "      <td>950.283019</td>\n",
       "      <td>564.669811</td>\n",
       "      <td>4.028302</td>\n",
       "      <td>1.500000</td>\n",
       "      <td>1085.849057</td>\n",
       "      <td>160.254717</td>\n",
       "    </tr>\n",
       "    <tr>\n",
       "      <th>std</th>\n",
       "      <td>0.384165</td>\n",
       "      <td>0.489329</td>\n",
       "      <td>0.293689</td>\n",
       "      <td>124.887227</td>\n",
       "      <td>220.384741</td>\n",
       "      <td>0.432299</td>\n",
       "      <td>1.047008</td>\n",
       "      <td>1.831368</td>\n",
       "      <td>0.742800</td>\n",
       "      <td>0.496619</td>\n",
       "      <td>...</td>\n",
       "      <td>1.110919</td>\n",
       "      <td>0.414148</td>\n",
       "      <td>0.498425</td>\n",
       "      <td>1.436278</td>\n",
       "      <td>198.504924</td>\n",
       "      <td>150.528069</td>\n",
       "      <td>1.073113</td>\n",
       "      <td>0.502375</td>\n",
       "      <td>245.119477</td>\n",
       "      <td>32.743465</td>\n",
       "    </tr>\n",
       "    <tr>\n",
       "      <th>min</th>\n",
       "      <td>2.200000</td>\n",
       "      <td>1.000000</td>\n",
       "      <td>1.000000</td>\n",
       "      <td>265.000000</td>\n",
       "      <td>315.000000</td>\n",
       "      <td>1.000000</td>\n",
       "      <td>1.000000</td>\n",
       "      <td>1.000000</td>\n",
       "      <td>1.000000</td>\n",
       "      <td>1.000000</td>\n",
       "      <td>...</td>\n",
       "      <td>1.000000</td>\n",
       "      <td>1.000000</td>\n",
       "      <td>0.000000</td>\n",
       "      <td>1.000000</td>\n",
       "      <td>580.000000</td>\n",
       "      <td>345.000000</td>\n",
       "      <td>1.000000</td>\n",
       "      <td>1.000000</td>\n",
       "      <td>575.000000</td>\n",
       "      <td>105.000000</td>\n",
       "    </tr>\n",
       "    <tr>\n",
       "      <th>25%</th>\n",
       "      <td>3.200000</td>\n",
       "      <td>1.000000</td>\n",
       "      <td>1.000000</td>\n",
       "      <td>610.000000</td>\n",
       "      <td>420.000000</td>\n",
       "      <td>2.000000</td>\n",
       "      <td>2.000000</td>\n",
       "      <td>1.250000</td>\n",
       "      <td>1.000000</td>\n",
       "      <td>1.000000</td>\n",
       "      <td>...</td>\n",
       "      <td>2.000000</td>\n",
       "      <td>1.000000</td>\n",
       "      <td>1.000000</td>\n",
       "      <td>2.000000</td>\n",
       "      <td>725.000000</td>\n",
       "      <td>500.000000</td>\n",
       "      <td>3.000000</td>\n",
       "      <td>1.000000</td>\n",
       "      <td>900.000000</td>\n",
       "      <td>135.000000</td>\n",
       "    </tr>\n",
       "    <tr>\n",
       "      <th>50%</th>\n",
       "      <td>3.500000</td>\n",
       "      <td>1.000000</td>\n",
       "      <td>1.000000</td>\n",
       "      <td>610.000000</td>\n",
       "      <td>420.000000</td>\n",
       "      <td>2.000000</td>\n",
       "      <td>3.000000</td>\n",
       "      <td>2.000000</td>\n",
       "      <td>2.000000</td>\n",
       "      <td>2.000000</td>\n",
       "      <td>...</td>\n",
       "      <td>3.000000</td>\n",
       "      <td>1.000000</td>\n",
       "      <td>1.000000</td>\n",
       "      <td>3.000000</td>\n",
       "      <td>940.000000</td>\n",
       "      <td>500.000000</td>\n",
       "      <td>4.000000</td>\n",
       "      <td>1.500000</td>\n",
       "      <td>1315.000000</td>\n",
       "      <td>155.000000</td>\n",
       "    </tr>\n",
       "    <tr>\n",
       "      <th>75%</th>\n",
       "      <td>3.700000</td>\n",
       "      <td>2.000000</td>\n",
       "      <td>1.000000</td>\n",
       "      <td>720.000000</td>\n",
       "      <td>420.000000</td>\n",
       "      <td>2.000000</td>\n",
       "      <td>3.000000</td>\n",
       "      <td>3.000000</td>\n",
       "      <td>2.000000</td>\n",
       "      <td>2.000000</td>\n",
       "      <td>...</td>\n",
       "      <td>4.000000</td>\n",
       "      <td>1.000000</td>\n",
       "      <td>2.000000</td>\n",
       "      <td>5.000000</td>\n",
       "      <td>1165.000000</td>\n",
       "      <td>690.000000</td>\n",
       "      <td>5.000000</td>\n",
       "      <td>2.000000</td>\n",
       "      <td>1315.000000</td>\n",
       "      <td>180.000000</td>\n",
       "    </tr>\n",
       "    <tr>\n",
       "      <th>max</th>\n",
       "      <td>4.000000</td>\n",
       "      <td>2.000000</td>\n",
       "      <td>2.000000</td>\n",
       "      <td>720.000000</td>\n",
       "      <td>980.000000</td>\n",
       "      <td>2.000000</td>\n",
       "      <td>5.000000</td>\n",
       "      <td>9.000000</td>\n",
       "      <td>4.000000</td>\n",
       "      <td>2.000000</td>\n",
       "      <td>...</td>\n",
       "      <td>6.000000</td>\n",
       "      <td>2.000000</td>\n",
       "      <td>2.000000</td>\n",
       "      <td>5.000000</td>\n",
       "      <td>1165.000000</td>\n",
       "      <td>850.000000</td>\n",
       "      <td>5.000000</td>\n",
       "      <td>2.000000</td>\n",
       "      <td>1315.000000</td>\n",
       "      <td>265.000000</td>\n",
       "    </tr>\n",
       "  </tbody>\n",
       "</table>\n",
       "<p>8 rows × 45 columns</p>\n",
       "</div>"
      ],
      "text/plain": [
       "              GPA      Gender   breakfast  calories_chicken  calories_scone  \\\n",
       "count  106.000000  106.000000  106.000000        106.000000      106.000000   \n",
       "mean     3.424528    1.386792    1.094340        585.566038      501.226415   \n",
       "std      0.384165    0.489329    0.293689        124.887227      220.384741   \n",
       "min      2.200000    1.000000    1.000000        265.000000      315.000000   \n",
       "25%      3.200000    1.000000    1.000000        610.000000      420.000000   \n",
       "50%      3.500000    1.000000    1.000000        610.000000      420.000000   \n",
       "75%      3.700000    2.000000    1.000000        720.000000      420.000000   \n",
       "max      4.000000    2.000000    2.000000        720.000000      980.000000   \n",
       "\n",
       "           coffee        cook  comfort_food_reasons_coded.1  \\\n",
       "count  106.000000  106.000000                    106.000000   \n",
       "mean     1.754717    2.764151                      2.556604   \n",
       "std      0.432299    1.047008                      1.831368   \n",
       "min      1.000000    1.000000                      1.000000   \n",
       "25%      2.000000    2.000000                      1.250000   \n",
       "50%      2.000000    3.000000                      2.000000   \n",
       "75%      2.000000    3.000000                      3.000000   \n",
       "max      2.000000    5.000000                      9.000000   \n",
       "\n",
       "       diet_current_coded       drink  ...  self_perception_weight  \\\n",
       "count          106.000000  106.000000  ...              106.000000   \n",
       "mean             1.707547    1.575472  ...                3.150943   \n",
       "std              0.742800    0.496619  ...                1.110919   \n",
       "min              1.000000    1.000000  ...                1.000000   \n",
       "25%              1.000000    1.000000  ...                2.000000   \n",
       "50%              2.000000    2.000000  ...                3.000000   \n",
       "75%              2.000000    2.000000  ...                4.000000   \n",
       "max              4.000000    2.000000  ...                6.000000   \n",
       "\n",
       "             soup      sports   thai_food  tortilla_calories  turkey_calories  \\\n",
       "count  106.000000  106.000000  106.000000         106.000000       106.000000   \n",
       "mean     1.216981    1.349057    3.264151         950.283019       564.669811   \n",
       "std      0.414148    0.498425    1.436278         198.504924       150.528069   \n",
       "min      1.000000    0.000000    1.000000         580.000000       345.000000   \n",
       "25%      1.000000    1.000000    2.000000         725.000000       500.000000   \n",
       "50%      1.000000    1.000000    3.000000         940.000000       500.000000   \n",
       "75%      1.000000    2.000000    5.000000        1165.000000       690.000000   \n",
       "max      2.000000    2.000000    5.000000        1165.000000       850.000000   \n",
       "\n",
       "       veggies_day    vitamins  waffle_calories      weight  \n",
       "count   106.000000  106.000000       106.000000  106.000000  \n",
       "mean      4.028302    1.500000      1085.849057  160.254717  \n",
       "std       1.073113    0.502375       245.119477   32.743465  \n",
       "min       1.000000    1.000000       575.000000  105.000000  \n",
       "25%       3.000000    1.000000       900.000000  135.000000  \n",
       "50%       4.000000    1.500000      1315.000000  155.000000  \n",
       "75%       5.000000    2.000000      1315.000000  180.000000  \n",
       "max       5.000000    2.000000      1315.000000  265.000000  \n",
       "\n",
       "[8 rows x 45 columns]"
      ]
     },
     "execution_count": 18,
     "metadata": {},
     "output_type": "execute_result"
    }
   ],
   "source": [
    "food.describe()"
   ]
  },
  {
   "cell_type": "markdown",
   "metadata": {},
   "source": [
    "- Histograms\n"
   ]
  },
  {
   "cell_type": "code",
   "execution_count": 19,
   "metadata": {},
   "outputs": [
    {
     "data": {
      "image/png": "[encoded data removed]",
      "text/plain": [
       "<Figure size 1440x1440 with 49 Axes>"
      ]
     },
     "metadata": {
      "needs_background": "light"
     },
     "output_type": "display_data"
    }
   ],
   "source": [
    "food.hist(figsize = (20,20));"
   ]
  },
  {
   "cell_type": "markdown",
   "metadata": {},
   "source": [
    "   - Correlation Heat Map"
   ]
  },
  {
   "cell_type": "code",
   "execution_count": 20,
   "metadata": {},
   "outputs": [
    {
     "data": {
      "image/png": "[encoded data removed]",
      "text/plain": [
       "<Figure size 1440x1440 with 2 Axes>"
      ]
     },
     "metadata": {
      "needs_background": "light"
     },
     "output_type": "display_data"
    }
   ],
   "source": [
    "fig, ax = plt.subplots(figsize=(20,20))\n",
    "sns.heatmap(food.corr(),\n",
    "            vmin=-1,\n",
    "            vmax=1,\n",
    "            cmap=sns.diverging_palette(220, 10, n=21),\n",
    "            ax=ax\n",
    "            );"
   ]
  },
  {
   "cell_type": "markdown",
   "metadata": {},
   "source": [
    "The correlations are not strong or clear. I expect to need to use a Random Forest  Classifer."
   ]
  },
  {
   "cell_type": "markdown",
   "metadata": {},
   "source": [
    "## Modeling Approach"
   ]
  },
  {
   "cell_type": "markdown",
   "metadata": {},
   "source": [
    "Since this is a classification problem, we are putting students into categories based on their current diet, we will use classification rather than regression models."
   ]
  },
  {
   "cell_type": "markdown",
   "metadata": {},
   "source": [
    "Discussion of Accuracy Measures"
   ]
  },
  {
   "cell_type": "markdown",
   "metadata": {},
   "source": [
    "- Mean Absolute Error lets us know how far we are from the true value on average. We will look at this metric to evaluate the model used as well as R^2 which gives us an idea of how well the model performs in contrast to a model that simply predicts the mean every time."
   ]
  },
  {
   "cell_type": "code",
   "execution_count": 21,
   "metadata": {},
   "outputs": [],
   "source": [
    "#first we will define our feature and target columns\n",
    "#Next we will be spliting the data 70/30 for a training set and a test set.\n",
    "X = food.drop('diet_current_coded', axis='columns')\n",
    "y = food.loc[:, 'diet_current_coded']\n",
    "X_train, X_test, y_train, y_test = train_test_split (X,y, test_size=.3)"
   ]
  },
  {
   "cell_type": "code",
   "execution_count": 57,
   "metadata": {},
   "outputs": [
    {
     "name": "stderr",
     "output_type": "stream",
     "text": [
      "C:\\Users\\lacey\\Anaconda3\\lib\\site-packages\\sklearn\\linear_model\\logistic.py:947: ConvergenceWarning: lbfgs failed to converge. Increase the number of iterations.\n",
      "  \"of iterations.\", ConvergenceWarning)\n"
     ]
    },
    {
     "data": {
      "text/plain": [
       "LogisticRegression(C=1.0, class_weight=None, dual=False, fit_intercept=True,\n",
       "                   intercept_scaling=1, l1_ratio=None, max_iter=100,\n",
       "                   multi_class='auto', n_jobs=None, penalty='l2',\n",
       "                   random_state=21, solver='lbfgs', tol=0.0001, verbose=0,\n",
       "                   warm_start=False)"
      ]
     },
     "execution_count": 57,
     "metadata": {},
     "output_type": "execute_result"
    }
   ],
   "source": [
    "#We will start with trying a simple Logistic Regression Model\n",
    "lr = LogisticRegression(solver='lbfgs', multi_class='auto', random_state=21)#instantiate the model\n",
    "#passed a solver and multi_class just to silence warnings, I found that it also reduces the score on the training set, but increases the score on test set. \n",
    "#So it reduces variance and improves performance.  \n",
    "lr.fit(X_train, y_train)#fit the training set"
   ]
  },
  {
   "cell_type": "code",
   "execution_count": 58,
   "metadata": {},
   "outputs": [
    {
     "name": "stdout",
     "output_type": "stream",
     "text": [
      "0.6216216216216216\n",
      "0.5\n"
     ]
    }
   ],
   "source": [
    "print(lr.score(X_train, y_train))#This gives the R**2 score for this model the training data\n",
    "print(lr.score(X_test, y_test))"
   ]
  },
  {
   "cell_type": "markdown",
   "metadata": {},
   "source": [
    "This first pass model is supposedly accurate about 50% more often than just guessing the mean everytime. It seems to be underfitting the data.  I didn't expect it to be great, but wanted to use it for comparison purposes."
   ]
  },
  {
   "cell_type": "code",
   "execution_count": 64,
   "metadata": {},
   "outputs": [
    {
     "name": "stdout",
     "output_type": "stream",
     "text": [
      "MAE: 0.84375\n"
     ]
    }
   ],
   "source": [
    "y_pred = lr.predict(X_test)\n",
    "true = np.array(y_test)\n",
    "pred = np.array(y_pred)\n",
    "print('MAE:',metrics.mean_absolute_error(true, pred))"
   ]
  },
  {
   "cell_type": "markdown",
   "metadata": {},
   "source": [
    "It seems like really though, we're off by about 85% on any given guess from this model."
   ]
  },
  {
   "cell_type": "code",
   "execution_count": 61,
   "metadata": {},
   "outputs": [
    {
     "name": "stdout",
     "output_type": "stream",
     "text": [
      "1.0\n",
      "0.75\n"
     ]
    }
   ],
   "source": [
    "rfc = RandomForestClassifier(n_estimators=200, random_state=21)#instaniate the model with a random_state for reproducibility\n",
    "rfc.fit(X_train, y_train)\n",
    "print(rfc.score(X_train, y_train))\n",
    "print(rfc.score(X_test, y_test))"
   ]
  },
  {
   "cell_type": "code",
   "execution_count": 63,
   "metadata": {},
   "outputs": [
    {
     "name": "stdout",
     "output_type": "stream",
     "text": [
      "MAE: 0.46875\n"
     ]
    }
   ],
   "source": [
    "y_pred = rfc.predict(X_test)\n",
    "true = np.array(y_test)\n",
    "pred = np.array(y_pred)\n",
    "print(\"MAE:\",metrics.mean_absolute_error(true, pred))"
   ]
  },
  {
   "cell_type": "markdown",
   "metadata": {},
   "source": [
    "Without any tweaking, the Random Forest Classifier is doing much better than the Logistic Regression model."
   ]
  },
  {
   "cell_type": "code",
   "execution_count": 26,
   "metadata": {},
   "outputs": [],
   "source": [
    "#lets use a function to find the best max_depth\n",
    "y_pred = rfc.predict(X_test)#now I will automate the process to find the best max_depth\n",
    "\n",
    "max_depth_range = range(1, 30)#this is the range of numbers we will check for max_depth\n",
    "\n",
    "from sklearn.metrics.scorer import make_scorer\n",
    "\n",
    "def neg_rmse(y_test, y_pred): \n",
    "    squared_errors = (y_test-y_pred)**2\n",
    "    mse = squared_errors.mean()\n",
    "    rmse = np.sqrt(mse)\n",
    "    return -rmse\n",
    "neg_rmse_scorer = make_scorer(neg_rmse)"
   ]
  },
  {
   "cell_type": "code",
   "execution_count": 27,
   "metadata": {},
   "outputs": [
    {
     "name": "stderr",
     "output_type": "stream",
     "text": [
      "C:\\Users\\lacey\\Anaconda3\\lib\\site-packages\\sklearn\\model_selection\\_search.py:813: DeprecationWarning: The default of the `iid` parameter will change from True to False in version 0.22 and will be removed in 0.24. This will change numeric results when test-set sizes are unequal.\n",
      "  DeprecationWarning)\n"
     ]
    },
    {
     "data": {
      "text/plain": [
       "Text(0, 0.5, 'RMSE, lowest score =  best max_depth')"
      ]
     },
     "execution_count": 27,
     "metadata": {},
     "output_type": "execute_result"
    },
    {
     "data": {
      "image/png": "[encoded data removed]",
      "text/plain": [
       "<Figure size 1440x1440 with 1 Axes>"
      ]
     },
     "metadata": {
      "needs_background": "light"
     },
     "output_type": "display_data"
    }
   ],
   "source": [
    "kf=KFold(5, shuffle=True, random_state=21) #splitting the data into 5 groups\n",
    "\n",
    "grid =GridSearchCV(\n",
    "    estimator=rfc,\n",
    "    param_grid={'max_depth' : max_depth_range},\n",
    "    cv=kf,\n",
    "    return_train_score = True,\n",
    "    scoring = neg_rmse_scorer\n",
    ")#instaniating the grid search for cross validation\n",
    "\n",
    "grid.fit(X,y)\n",
    "scores = -pd.DataFrame(grid.cv_results_).loc[:, ['mean_test_score']]\n",
    "scores.index = max_depth_range\n",
    "ax = scores.plot(figsize=(20,20))#visualing the results using a line graph\n",
    "ax.set_xlabel('max_depth')\n",
    "ax.set_ylabel('RMSE, lowest score =  best max_depth')"
   ]
  },
  {
   "cell_type": "markdown",
   "metadata": {},
   "source": [
    "It looks like our best max_depth is 6 or 7."
   ]
  },
  {
   "cell_type": "code",
   "execution_count": 40,
   "metadata": {},
   "outputs": [
    {
     "name": "stdout",
     "output_type": "stream",
     "text": [
      "1.0\n",
      "0.78125\n"
     ]
    }
   ],
   "source": [
    "rfc = RandomForestClassifier(max_depth=7, n_estimators=200, random_state=21)#in this current random state, 7 is doing better than 6.\n",
    "rfc.fit(X_train,y_train)\n",
    "print(rfc.score(X_train, y_train))\n",
    "print(rfc.score(X_test, y_test))"
   ]
  },
  {
   "cell_type": "code",
   "execution_count": 66,
   "metadata": {},
   "outputs": [
    {
     "name": "stdout",
     "output_type": "stream",
     "text": [
      "1.0\n",
      "0.78125\n"
     ]
    }
   ],
   "source": [
    "rfc = RandomForestClassifier(max_depth=7, n_estimators=200, random_state=21)#changing n_estimators by hand, I found 200 to be best.\n",
    "rfc.fit(X_train,y_train)\n",
    "print(rfc.score(X_train, y_train))\n",
    "print(rfc.score(X_test, y_test))"
   ]
  },
  {
   "cell_type": "code",
   "execution_count": 67,
   "metadata": {},
   "outputs": [
    {
     "name": "stdout",
     "output_type": "stream",
     "text": [
      "MAE: 0.4375\n"
     ]
    }
   ],
   "source": [
    "y_pred = rfc.predict(X_test)\n",
    "true = np.array(y_test)\n",
    "pred = np.array(y_pred)\n",
    "print(\"MAE:\",metrics.mean_absolute_error(true, pred))"
   ]
  },
  {
   "cell_type": "code",
   "execution_count": 56,
   "metadata": {},
   "outputs": [
    {
     "name": "stderr",
     "output_type": "stream",
     "text": [
      "C:\\Users\\lacey\\Anaconda3\\lib\\site-packages\\sklearn\\model_selection\\_search.py:813: DeprecationWarning: The default of the `iid` parameter will change from True to False in version 0.22 and will be removed in 0.24. This will change numeric results when test-set sizes are unequal.\n",
      "  DeprecationWarning)\n"
     ]
    },
    {
     "name": "stdout",
     "output_type": "stream",
     "text": [
      "train_score 1.0\n",
      "test_score 0.5849056603773585\n"
     ]
    }
   ],
   "source": [
    "#This time I will use Kfold to split the data into multiple test and training sets, using leave one out cross-validation\n",
    "rfc_kf = RandomForestClassifier(n_estimators=200, max_depth=7)\n",
    "kf = KFold(n_splits=5, shuffle=True)\n",
    "\n",
    "rfc_grid = GridSearchCV(estimator=rfc_kf, param_grid={}, cv=kf, return_train_score=True)\n",
    "rfc_grid.fit(X, y)\n",
    "results = rfc_grid.cv_results_\n",
    "#we get a score for every round, so here we are looking at the average of the score\n",
    "print('train_score', results['mean_train_score'][0])\n",
    "print('test_score', results['mean_test_score'][0])"
   ]
  },
  {
   "cell_type": "markdown",
   "metadata": {},
   "source": [
    "Training the model using KFold cross validation gives poorer performance in this case. Of the models tested in this notebook, the Random Forest Classifier, using a simple train_test_split, with max_depth set at 7 and n_estimators set at 200, gives us the most accurate predictions."
   ]
  },
  {
   "cell_type": "code",
   "execution_count": 68,
   "metadata": {},
   "outputs": [
    {
     "data": {
      "text/plain": [
       "2    48\n",
       "1    46\n",
       "3     9\n",
       "4     3\n",
       "Name: diet_current_coded, dtype: int64"
      ]
     },
     "execution_count": 68,
     "metadata": {},
     "output_type": "execute_result"
    }
   ],
   "source": [
    "food.diet_current_coded.value_counts()"
   ]
  },
  {
   "cell_type": "markdown",
   "metadata": {},
   "source": [
    "There are only four outcomes that it could be. About 89% of the time the diet is either diet type 1 or diet type 2. So you could probably acheive a minimum of 44% accuracy flipping a coin to just guess 1 or just guess 2 every time. The best performing model here is at least better than that."
   ]
  }
 ],
 "metadata": {
  "kernelspec": {
   "display_name": "Python 3",
   "language": "python",
   "name": "python3"
  },
  "language_info": {
   "codemirror_mode": {
    "name": "ipython",
    "version": 3
   },
   "file_extension": ".py",
   "mimetype": "text/x-python",
   "name": "python",
   "nbconvert_exporter": "python",
   "pygments_lexer": "ipython3",
   "version": "3.6.8"
  }
 },
 "nbformat": 4,
 "nbformat_minor": 2
}
